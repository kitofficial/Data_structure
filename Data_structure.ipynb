{
 "cells": [
  {
   "cell_type": "code",
   "execution_count": 1,
   "id": "ee5cb15b",
   "metadata": {},
   "outputs": [
    {
     "name": "stdout",
     "output_type": "stream",
     "text": [
      "Data Structure Practice Started\n"
     ]
    }
   ],
   "source": [
    "print(\"Data Structure Practice Started\")"
   ]
  },
  {
   "cell_type": "markdown",
   "id": "c11e072d",
   "metadata": {},
   "source": [
    "#Linked list"
   ]
  },
  {
   "cell_type": "code",
   "execution_count": 2,
   "id": "9fb8e28a",
   "metadata": {},
   "outputs": [],
   "source": [
    "# create node class \n",
    "\n",
    "class Node:\n",
    "    def __init__(self, data):\n",
    "        self.data = data\n",
    "        self.next = None"
   ]
  },
  {
   "cell_type": "code",
   "execution_count": 3,
   "id": "939f74fe",
   "metadata": {},
   "outputs": [],
   "source": [
    "# L = Node(10)"
   ]
  },
  {
   "cell_type": "code",
   "execution_count": 4,
   "id": "ea60bf99",
   "metadata": {},
   "outputs": [],
   "source": [
    "# L = Node(10)\n",
    "# head = L\n",
    "# a = Node(20)\n",
    "# b= Node(30)\n",
    "# c= Node(40)\n",
    "# head.next = a\n",
    "# a.next = b      \n",
    "# b.next = c\n",
    "# c.next = None"
   ]
  },
  {
   "cell_type": "code",
   "execution_count": null,
   "id": "df6a74de",
   "metadata": {},
   "outputs": [],
   "source": [
    "class LinkedList:\n",
    "\n",
    "  def __init__(self):\n",
    "\n",
    "    # Empty Linked List\n",
    "    self.head = None\n",
    "    # no of nodes in the LL\n",
    "    self.n = 0\n",
    "\n",
    "  def __len__(self):\n",
    "    return self.n\n",
    "\n",
    "  def insert_head(self,value):\n",
    "\n",
    "    # new node\n",
    "    new_node = Node(value)\n",
    "\n",
    "    # create connection\n",
    "    new_node.next = self.head\n",
    "\n",
    "    # reassign head\n",
    "    self.head = new_node\n",
    "\n",
    "    # increment n\n",
    "    self.n = self.n + 1\n",
    "\n",
    "\n",
    "  def print_list(self):\n",
    "    curr = self.head\n",
    "    result = \"\"\n",
    "    while curr is not None:\n",
    "        result = result + str(curr.data) + \"-->\"\n",
    "        curr = curr.next\n",
    "    result = result + \"None\"\n",
    "    return result\n",
    "\n"
   ]
  },
  {
   "cell_type": "code",
   "execution_count": 28,
   "id": "a3e36a48",
   "metadata": {},
   "outputs": [],
   "source": [
    "L = LinkedList()\n",
    "L.insert_head(70)\n",
    "L.insert_head(80)   "
   ]
  },
  {
   "cell_type": "code",
   "execution_count": 32,
   "id": "70ff1c31",
   "metadata": {},
   "outputs": [
    {
     "data": {
      "text/plain": [
       "'80-->70-->None'"
      ]
     },
     "execution_count": 32,
     "metadata": {},
     "output_type": "execute_result"
    }
   ],
   "source": [
    "L.print_list()"
   ]
  },
  {
   "cell_type": "code",
   "execution_count": null,
   "id": "d03f99c3",
   "metadata": {},
   "outputs": [],
   "source": []
  },
  {
   "cell_type": "code",
   "execution_count": null,
   "id": "30d5cc77",
   "metadata": {},
   "outputs": [],
   "source": []
  },
  {
   "cell_type": "code",
   "execution_count": null,
   "id": "29d5a103",
   "metadata": {},
   "outputs": [],
   "source": []
  },
  {
   "cell_type": "code",
   "execution_count": null,
   "id": "e6bcfc8f",
   "metadata": {},
   "outputs": [],
   "source": []
  },
  {
   "cell_type": "code",
   "execution_count": null,
   "id": "5790392d",
   "metadata": {},
   "outputs": [],
   "source": []
  },
  {
   "cell_type": "markdown",
   "id": "ecc0ee5c",
   "metadata": {},
   "source": [
    "# Traverse "
   ]
  },
  {
   "cell_type": "code",
   "execution_count": null,
   "id": "7f3954bf",
   "metadata": {},
   "outputs": [],
   "source": [
    "L = Node(10)\n",
    "head = L\n",
    "a = Node(20)\n",
    "b= Node(30)\n",
    "c= Node(40)\n",
    "head.next = a\n",
    "a.next = b      \n",
    "b.next = c\n",
    "c.next = None"
   ]
  },
  {
   "cell_type": "code",
   "execution_count": 8,
   "id": "49a51db6",
   "metadata": {},
   "outputs": [],
   "source": [
    "def print_list(head):\n",
    "    curr = head\n",
    "    result = \"\"\n",
    "    while curr is not None:\n",
    "        result = result +str(curr.data) + \"-->\"\n",
    "        curr = curr.next\n",
    "    result = result + \"None\"\n",
    "    print(result)   "
   ]
  },
  {
   "cell_type": "code",
   "execution_count": null,
   "id": "4aba4f03",
   "metadata": {},
   "outputs": [],
   "source": [
    "print_list(head)"
   ]
  },
  {
   "cell_type": "code",
   "execution_count": null,
   "id": "4c471ab7",
   "metadata": {},
   "outputs": [],
   "source": [
    "new_node = Node(7) # insert node 5 at head\n",
    "new_node.next = head\n",
    "head = new_node\n",
    "print_list(head)"
   ]
  },
  {
   "cell_type": "code",
   "execution_count": null,
   "id": "ced3fcbb",
   "metadata": {},
   "outputs": [],
   "source": [
    "def insert_head_node(value):\n",
    "    new_node = Node(value)\n",
    "    new_node.next = head\n",
    "    head = new_node\n",
    "    return "
   ]
  },
  {
   "cell_type": "code",
   "execution_count": null,
   "id": "6d7f1692",
   "metadata": {},
   "outputs": [],
   "source": [
    "insert_head_node(21)"
   ]
  },
  {
   "cell_type": "code",
   "execution_count": null,
   "id": "ec860fe6",
   "metadata": {},
   "outputs": [],
   "source": []
  }
 ],
 "metadata": {
  "kernelspec": {
   "display_name": "ml",
   "language": "python",
   "name": "python3"
  },
  "language_info": {
   "codemirror_mode": {
    "name": "ipython",
    "version": 3
   },
   "file_extension": ".py",
   "mimetype": "text/x-python",
   "name": "python",
   "nbconvert_exporter": "python",
   "pygments_lexer": "ipython3",
   "version": "3.12.8"
  }
 },
 "nbformat": 4,
 "nbformat_minor": 5
}
