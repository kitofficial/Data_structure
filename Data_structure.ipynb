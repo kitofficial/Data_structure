{
 "cells": [
  {
   "cell_type": "code",
   "execution_count": 1,
   "id": "ee5cb15b",
   "metadata": {},
   "outputs": [
    {
     "name": "stdout",
     "output_type": "stream",
     "text": [
      "Data Structure Practice Started\n"
     ]
    }
   ],
   "source": [
    "print(\"Data Structure Practice Started\")"
   ]
  },
  {
   "cell_type": "code",
   "execution_count": null,
   "id": "c11e072d",
   "metadata": {},
   "outputs": [],
   "source": []
  }
 ],
 "metadata": {
  "kernelspec": {
   "display_name": "ml",
   "language": "python",
   "name": "python3"
  },
  "language_info": {
   "codemirror_mode": {
    "name": "ipython",
    "version": 3
   },
   "file_extension": ".py",
   "mimetype": "text/x-python",
   "name": "python",
   "nbconvert_exporter": "python",
   "pygments_lexer": "ipython3",
   "version": "3.12.8"
  }
 },
 "nbformat": 4,
 "nbformat_minor": 5
}
